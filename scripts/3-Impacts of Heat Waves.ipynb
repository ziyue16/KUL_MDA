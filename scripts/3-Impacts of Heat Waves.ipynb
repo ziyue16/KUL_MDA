{
 "cells": [
  {
   "cell_type": "markdown",
   "metadata": {},
   "source": [
    "# Estimate Impacts of Heat Waves"
   ]
  },
  {
   "cell_type": "code",
   "execution_count": 1,
   "metadata": {
    "id": "lvjvrMCk207u"
   },
   "outputs": [],
   "source": [
    "import pandas as pd\n",
    "import numpy as np\n",
    "import matplotlib as plt\n",
    "import seaborn as sns\n",
    "from sklearn.preprocessing import LabelEncoder\n",
    "from sklearn import preprocessing\n",
    "from sklearn.tree import DecisionTreeClassifier\n",
    "from sklearn.ensemble import RandomForestClassifier\n",
    "from sklearn.model_selection import train_test_split\n",
    "from sklearn import metrics\n",
    "from sklearn.model_selection import KFold\n",
    "from sklearn.svm import SVC\n",
    "import xgboost as xgb\n",
    "from sklearn.metrics import mean_squared_error\n",
    "import matplotlib.pyplot as plt\n",
    "\n",
    "\n",
    "# importing data from S3\n",
    "project_dir = (\"https://projectmda.s3.us-east-2.amazonaws.com/data/Impact+of+Heat+Waves/\")"
   ]
  },
  {
   "cell_type": "markdown",
   "metadata": {},
   "source": [
    "## Import data"
   ]
  },
  {
   "cell_type": "code",
   "execution_count": 2,
   "metadata": {
    "id": "-A3rgC5U3Qi3"
   },
   "outputs": [],
   "source": [
    "HW = pd.read_csv(project_dir + \"Heatwave20002020.csv\")\n",
    "HI = pd.read_csv(project_dir + \"Predict_Heatwaves.csv\")"
   ]
  },
  {
   "cell_type": "code",
   "execution_count": 3,
   "metadata": {
    "colab": {
     "base_uri": "https://localhost:8080/",
     "height": 284
    },
    "id": "w1_q1F673UG7",
    "outputId": "55f61cf3-276e-4514-f448-bbaf67e1c05b"
   },
   "outputs": [
    {
     "data": {
      "text/html": [
       "<div>\n",
       "<style scoped>\n",
       "    .dataframe tbody tr th:only-of-type {\n",
       "        vertical-align: middle;\n",
       "    }\n",
       "\n",
       "    .dataframe tbody tr th {\n",
       "        vertical-align: top;\n",
       "    }\n",
       "\n",
       "    .dataframe thead th {\n",
       "        text-align: right;\n",
       "    }\n",
       "</style>\n",
       "<table border=\"1\" class=\"dataframe\">\n",
       "  <thead>\n",
       "    <tr style=\"text-align: right;\">\n",
       "      <th></th>\n",
       "      <th>Dis No</th>\n",
       "      <th>Year</th>\n",
       "      <th>Disaster Subtype</th>\n",
       "      <th>Entry Criteria</th>\n",
       "      <th>Country</th>\n",
       "      <th>ISO</th>\n",
       "      <th>Region</th>\n",
       "      <th>Continent</th>\n",
       "      <th>Location</th>\n",
       "      <th>Associated Dis</th>\n",
       "      <th>...</th>\n",
       "      <th>Total Affected</th>\n",
       "      <th>Reconstruction Costs ('000 US$)</th>\n",
       "      <th>Insured Damages ('000 US$)</th>\n",
       "      <th>Total Damages ('000 US$)</th>\n",
       "      <th>CPI</th>\n",
       "      <th>gdp</th>\n",
       "      <th>clean energy budget</th>\n",
       "      <th>Unnamed: 33</th>\n",
       "      <th>GNI per capita</th>\n",
       "      <th>Population</th>\n",
       "    </tr>\n",
       "  </thead>\n",
       "  <tbody>\n",
       "    <tr>\n",
       "      <th>0</th>\n",
       "      <td>2000-0382-BGR</td>\n",
       "      <td>2000</td>\n",
       "      <td>Heat wave</td>\n",
       "      <td>SigDis</td>\n",
       "      <td>Bulgaria</td>\n",
       "      <td>BGR</td>\n",
       "      <td>Eastern Europe</td>\n",
       "      <td>Europe</td>\n",
       "      <td>Sofia, Sofia-city, Stata Zagora, Blagoevgrad, ...</td>\n",
       "      <td>NaN</td>\n",
       "      <td>...</td>\n",
       "      <td>NaN</td>\n",
       "      <td>NaN</td>\n",
       "      <td>NaN</td>\n",
       "      <td>50.0</td>\n",
       "      <td>67.355759</td>\n",
       "      <td>52491.528</td>\n",
       "      <td>0.0</td>\n",
       "      <td>NaN</td>\n",
       "      <td>6270.0</td>\n",
       "      <td>8170172</td>\n",
       "    </tr>\n",
       "    <tr>\n",
       "      <th>1</th>\n",
       "      <td>2000-0398-CYP</td>\n",
       "      <td>2000</td>\n",
       "      <td>Heat wave</td>\n",
       "      <td>Affect</td>\n",
       "      <td>Cyprus</td>\n",
       "      <td>CYP</td>\n",
       "      <td>Western Asia</td>\n",
       "      <td>Asia</td>\n",
       "      <td>Nicosia province</td>\n",
       "      <td>NaN</td>\n",
       "      <td>...</td>\n",
       "      <td>400.0</td>\n",
       "      <td>NaN</td>\n",
       "      <td>NaN</td>\n",
       "      <td>NaN</td>\n",
       "      <td>67.355759</td>\n",
       "      <td>14781.223</td>\n",
       "      <td>0.0</td>\n",
       "      <td>NaN</td>\n",
       "      <td>19470.0</td>\n",
       "      <td>943290</td>\n",
       "    </tr>\n",
       "  </tbody>\n",
       "</table>\n",
       "<p>2 rows × 36 columns</p>\n",
       "</div>"
      ],
      "text/plain": [
       "          Dis No  Year Disaster Subtype Entry Criteria   Country  ISO  \\\n",
       "0  2000-0382-BGR  2000        Heat wave         SigDis  Bulgaria  BGR   \n",
       "1  2000-0398-CYP  2000        Heat wave         Affect    Cyprus  CYP   \n",
       "\n",
       "           Region Continent  \\\n",
       "0  Eastern Europe    Europe   \n",
       "1    Western Asia      Asia   \n",
       "\n",
       "                                            Location Associated Dis  ...  \\\n",
       "0  Sofia, Sofia-city, Stata Zagora, Blagoevgrad, ...            NaN  ...   \n",
       "1                                   Nicosia province            NaN  ...   \n",
       "\n",
       "  Total Affected Reconstruction Costs ('000 US$)  Insured Damages ('000 US$)  \\\n",
       "0            NaN                             NaN                         NaN   \n",
       "1          400.0                             NaN                         NaN   \n",
       "\n",
       "  Total Damages ('000 US$)        CPI        gdp  clean energy budget  \\\n",
       "0                     50.0  67.355759  52491.528                  0.0   \n",
       "1                      NaN  67.355759  14781.223                  0.0   \n",
       "\n",
       "   Unnamed: 33  GNI per capita  Population  \n",
       "0          NaN          6270.0     8170172  \n",
       "1          NaN         19470.0      943290  \n",
       "\n",
       "[2 rows x 36 columns]"
      ]
     },
     "execution_count": 3,
     "metadata": {},
     "output_type": "execute_result"
    }
   ],
   "source": [
    "HW.head(2)"
   ]
  },
  {
   "cell_type": "code",
   "execution_count": 4,
   "metadata": {
    "colab": {
     "base_uri": "https://localhost:8080/",
     "height": 352
    },
    "id": "fVAAA3pO3Ynf",
    "outputId": "236fe8dd-99b9-40af-ce34-acb39193177c"
   },
   "outputs": [
    {
     "data": {
      "text/html": [
       "<div>\n",
       "<style scoped>\n",
       "    .dataframe tbody tr th:only-of-type {\n",
       "        vertical-align: middle;\n",
       "    }\n",
       "\n",
       "    .dataframe tbody tr th {\n",
       "        vertical-align: top;\n",
       "    }\n",
       "\n",
       "    .dataframe thead th {\n",
       "        text-align: right;\n",
       "    }\n",
       "</style>\n",
       "<table border=\"1\" class=\"dataframe\">\n",
       "  <thead>\n",
       "    <tr style=\"text-align: right;\">\n",
       "      <th></th>\n",
       "      <th>Unnamed: 0</th>\n",
       "      <th>Dis No</th>\n",
       "      <th>Country</th>\n",
       "      <th>Year</th>\n",
       "      <th>Month</th>\n",
       "      <th>Rel_Hum</th>\n",
       "      <th>tavg</th>\n",
       "      <th>tmin</th>\n",
       "      <th>tmax</th>\n",
       "      <th>prcp</th>\n",
       "      <th>wspd</th>\n",
       "      <th>heatwave</th>\n",
       "      <th>Region</th>\n",
       "      <th>tavg_F</th>\n",
       "      <th>HI</th>\n",
       "    </tr>\n",
       "  </thead>\n",
       "  <tbody>\n",
       "    <tr>\n",
       "      <th>0</th>\n",
       "      <td>0</td>\n",
       "      <td>2020-0530-GBR</td>\n",
       "      <td>United Kingdom of Great Britain and Northern I...</td>\n",
       "      <td>2000</td>\n",
       "      <td>1</td>\n",
       "      <td>72.0</td>\n",
       "      <td>6.093333</td>\n",
       "      <td>-3.50</td>\n",
       "      <td>12.00</td>\n",
       "      <td>34.763333</td>\n",
       "      <td>21.513333</td>\n",
       "      <td>0.0</td>\n",
       "      <td>Northern Europe</td>\n",
       "      <td>42.968</td>\n",
       "      <td>118.113939</td>\n",
       "    </tr>\n",
       "    <tr>\n",
       "      <th>1</th>\n",
       "      <td>1</td>\n",
       "      <td>2020-0530-GBR</td>\n",
       "      <td>United Kingdom of Great Britain and Northern I...</td>\n",
       "      <td>2000</td>\n",
       "      <td>2</td>\n",
       "      <td>77.0</td>\n",
       "      <td>6.863333</td>\n",
       "      <td>-1.94</td>\n",
       "      <td>12.42</td>\n",
       "      <td>61.026667</td>\n",
       "      <td>27.000000</td>\n",
       "      <td>0.0</td>\n",
       "      <td>Northern Europe</td>\n",
       "      <td>44.354</td>\n",
       "      <td>110.667769</td>\n",
       "    </tr>\n",
       "  </tbody>\n",
       "</table>\n",
       "</div>"
      ],
      "text/plain": [
       "   Unnamed: 0         Dis No  \\\n",
       "0           0  2020-0530-GBR   \n",
       "1           1  2020-0530-GBR   \n",
       "\n",
       "                                             Country  Year  Month  Rel_Hum  \\\n",
       "0  United Kingdom of Great Britain and Northern I...  2000      1     72.0   \n",
       "1  United Kingdom of Great Britain and Northern I...  2000      2     77.0   \n",
       "\n",
       "       tavg  tmin   tmax       prcp       wspd  heatwave           Region  \\\n",
       "0  6.093333 -3.50  12.00  34.763333  21.513333       0.0  Northern Europe   \n",
       "1  6.863333 -1.94  12.42  61.026667  27.000000       0.0  Northern Europe   \n",
       "\n",
       "   tavg_F          HI  \n",
       "0  42.968  118.113939  \n",
       "1  44.354  110.667769  "
      ]
     },
     "execution_count": 4,
     "metadata": {},
     "output_type": "execute_result"
    }
   ],
   "source": [
    "HI.head(2)"
   ]
  },
  {
   "cell_type": "code",
   "execution_count": 5,
   "metadata": {
    "colab": {
     "base_uri": "https://localhost:8080/",
     "height": 394
    },
    "id": "B7E6Ix7o3bZF",
    "outputId": "5e5f145f-b10a-4981-876d-126a67fa5de8"
   },
   "outputs": [
    {
     "data": {
      "text/html": [
       "<div>\n",
       "<style scoped>\n",
       "    .dataframe tbody tr th:only-of-type {\n",
       "        vertical-align: middle;\n",
       "    }\n",
       "\n",
       "    .dataframe tbody tr th {\n",
       "        vertical-align: top;\n",
       "    }\n",
       "\n",
       "    .dataframe thead th {\n",
       "        text-align: right;\n",
       "    }\n",
       "</style>\n",
       "<table border=\"1\" class=\"dataframe\">\n",
       "  <thead>\n",
       "    <tr style=\"text-align: right;\">\n",
       "      <th></th>\n",
       "      <th>DisNo</th>\n",
       "      <th>year</th>\n",
       "      <th>country</th>\n",
       "      <th>month</th>\n",
       "      <th>ISO</th>\n",
       "      <th>Region</th>\n",
       "      <th>Continent</th>\n",
       "      <th>Deaths</th>\n",
       "      <th>NoInjured</th>\n",
       "      <th>TotalAffected</th>\n",
       "      <th>CPI</th>\n",
       "      <th>GDP</th>\n",
       "      <th>GNI</th>\n",
       "      <th>Population</th>\n",
       "    </tr>\n",
       "  </thead>\n",
       "  <tbody>\n",
       "    <tr>\n",
       "      <th>0</th>\n",
       "      <td>2000-0382-BGR</td>\n",
       "      <td>2000</td>\n",
       "      <td>Bulgaria</td>\n",
       "      <td>6</td>\n",
       "      <td>BGR</td>\n",
       "      <td>Eastern Europe</td>\n",
       "      <td>Europe</td>\n",
       "      <td>7.0</td>\n",
       "      <td>NaN</td>\n",
       "      <td>NaN</td>\n",
       "      <td>67.355759</td>\n",
       "      <td>52491.528</td>\n",
       "      <td>6270.0</td>\n",
       "      <td>8170172</td>\n",
       "    </tr>\n",
       "    <tr>\n",
       "      <th>1</th>\n",
       "      <td>2000-0398-CYP</td>\n",
       "      <td>2000</td>\n",
       "      <td>Cyprus</td>\n",
       "      <td>7</td>\n",
       "      <td>CYP</td>\n",
       "      <td>Western Asia</td>\n",
       "      <td>Asia</td>\n",
       "      <td>5.0</td>\n",
       "      <td>400.0</td>\n",
       "      <td>400.0</td>\n",
       "      <td>67.355759</td>\n",
       "      <td>14781.223</td>\n",
       "      <td>19470.0</td>\n",
       "      <td>943290</td>\n",
       "    </tr>\n",
       "    <tr>\n",
       "      <th>2</th>\n",
       "      <td>2000-0379-GRC</td>\n",
       "      <td>2000</td>\n",
       "      <td>Greece</td>\n",
       "      <td>7</td>\n",
       "      <td>GRC</td>\n",
       "      <td>Southern Europe</td>\n",
       "      <td>Europe</td>\n",
       "      <td>27.0</td>\n",
       "      <td>176.0</td>\n",
       "      <td>176.0</td>\n",
       "      <td>67.355759</td>\n",
       "      <td>210979.958</td>\n",
       "      <td>NaN</td>\n",
       "      <td>10805808</td>\n",
       "    </tr>\n",
       "    <tr>\n",
       "      <th>3</th>\n",
       "      <td>2000-0324-HRV</td>\n",
       "      <td>2000</td>\n",
       "      <td>Croatia</td>\n",
       "      <td>6</td>\n",
       "      <td>HRV</td>\n",
       "      <td>Southern Europe</td>\n",
       "      <td>Europe</td>\n",
       "      <td>40.0</td>\n",
       "      <td>200.0</td>\n",
       "      <td>200.0</td>\n",
       "      <td>67.355759</td>\n",
       "      <td>47307.968</td>\n",
       "      <td>10390.0</td>\n",
       "      <td>4468302</td>\n",
       "    </tr>\n",
       "    <tr>\n",
       "      <th>4</th>\n",
       "      <td>2000-0473-ISR</td>\n",
       "      <td>2000</td>\n",
       "      <td>Israel</td>\n",
       "      <td>7</td>\n",
       "      <td>ISR</td>\n",
       "      <td>Western Asia</td>\n",
       "      <td>Asia</td>\n",
       "      <td>NaN</td>\n",
       "      <td>NaN</td>\n",
       "      <td>NaN</td>\n",
       "      <td>67.355759</td>\n",
       "      <td>157214.843</td>\n",
       "      <td>23440.0</td>\n",
       "      <td>6289000</td>\n",
       "    </tr>\n",
       "  </tbody>\n",
       "</table>\n",
       "</div>"
      ],
      "text/plain": [
       "           DisNo  year   country  month  ISO           Region Continent  \\\n",
       "0  2000-0382-BGR  2000  Bulgaria      6  BGR   Eastern Europe    Europe   \n",
       "1  2000-0398-CYP  2000    Cyprus      7  CYP     Western Asia      Asia   \n",
       "2  2000-0379-GRC  2000    Greece      7  GRC  Southern Europe    Europe   \n",
       "3  2000-0324-HRV  2000   Croatia      6  HRV  Southern Europe    Europe   \n",
       "4  2000-0473-ISR  2000    Israel      7  ISR     Western Asia      Asia   \n",
       "\n",
       "   Deaths  NoInjured  TotalAffected        CPI         GDP      GNI Population  \n",
       "0     7.0        NaN            NaN  67.355759   52491.528   6270.0    8170172  \n",
       "1     5.0      400.0          400.0  67.355759   14781.223  19470.0     943290  \n",
       "2    27.0      176.0          176.0  67.355759  210979.958      NaN   10805808  \n",
       "3    40.0      200.0          200.0  67.355759   47307.968  10390.0    4468302  \n",
       "4     NaN        NaN            NaN  67.355759  157214.843  23440.0    6289000  "
      ]
     },
     "execution_count": 5,
     "metadata": {},
     "output_type": "execute_result"
    }
   ],
   "source": [
    "HW1 = HW[[\"Dis No\", \"Year\", \"Country\", \"Start Month\", \"ISO\", \"Region\", \"Continent\", \"Total Deaths\",\n",
    "              \"No Injured\", \"Total Affected\", \"CPI\", \"gdp\", \"GNI per capita\",\"Population\"]]\n",
    "HW1.columns = [\"DisNo\", \"year\", \"country\", \"month\", \"ISO\", \"Region\", \"Continent\", \"Deaths\",\n",
    "              \"NoInjured\", \"TotalAffected\", \"CPI\",\"GDP\", \"GNI\",\"Population\"]\n",
    "HW1.head()"
   ]
  },
  {
   "cell_type": "code",
   "execution_count": 6,
   "metadata": {
    "colab": {
     "base_uri": "https://localhost:8080/"
    },
    "id": "CFGFnG043jSW",
    "outputId": "bd7c4765-291d-46b3-df4a-ac2f8d373df2"
   },
   "outputs": [
    {
     "name": "stderr",
     "output_type": "stream",
     "text": [
      "/opt/anaconda3/envs/MDA_project/lib/python3.8/site-packages/pandas/core/series.py:4509: SettingWithCopyWarning: \n",
      "A value is trying to be set on a copy of a slice from a DataFrame\n",
      "\n",
      "See the caveats in the documentation: https://pandas.pydata.org/pandas-docs/stable/user_guide/indexing.html#returning-a-view-versus-a-copy\n",
      "  return super().replace(\n"
     ]
    }
   ],
   "source": [
    "HW1[\"country\"].replace({\"United Kingdom of Great Britain and Northern Ireland (the)\": \"UK\", \n",
    "                             \"United States of America (the)\": \"United States\",\n",
    "                            \"Macedonia (the former Yugoslav Republic of)\": \"Macedonia\",\n",
    "                            \"Bolivia (Plurinational State of)\": \"Bolivia\",\n",
    "                            \"Sudan (the)\": \"Sudan\"}, inplace=True)\n",
    "HI[\"Country\"].replace({\"United Kingdom of Great Britain and Northern Ireland (the)\": \"UK\", \n",
    "                             \"United States of America (the)\": \"United States\",\n",
    "                            \"Macedonia (the former Yugoslav Republic of)\": \"Macedonia\",\n",
    "                            \"Bolivia (Plurinational State of)\": \"Bolivia\",\n",
    "                            \"Sudan (the)\": \"Sudan\"}, inplace=True)"
   ]
  },
  {
   "cell_type": "code",
   "execution_count": 7,
   "metadata": {
    "colab": {
     "base_uri": "https://localhost:8080/"
    },
    "id": "LvEGNHfT352c",
    "outputId": "09adac7c-f26d-4d28-cea6-c4ad5f234be1"
   },
   "outputs": [
    {
     "data": {
      "text/plain": [
       "Index(['Unnamed: 0', 'Dis No', 'Country', 'Year', 'Month', 'Rel_Hum', 'tavg',\n",
       "       'tmin', 'tmax', 'prcp', 'wspd', 'heatwave', 'Region', 'tavg_F', 'HI'],\n",
       "      dtype='object')"
      ]
     },
     "execution_count": 7,
     "metadata": {},
     "output_type": "execute_result"
    }
   ],
   "source": [
    "HI.columns"
   ]
  },
  {
   "cell_type": "code",
   "execution_count": 8,
   "metadata": {
    "id": "20Z72pYz4QVv"
   },
   "outputs": [],
   "source": [
    "HI.columns = ['Unnamed: 0','DisNo', 'country', 'year', 'month', 'rel_hum', 'tavg',\n",
    "       'tmin', 'tmax', 'prcp', 'wspd', 'heatwave', 'Region','tavg_F', 'HI']"
   ]
  },
  {
   "cell_type": "code",
   "execution_count": 9,
   "metadata": {
    "id": "IsmFr48b3miS"
   },
   "outputs": [],
   "source": [
    "HW2 = HW1.merge(HI[['country', 'year', 'month', 'rel_hum', 'tavg','HI']], \n",
    "                on = [\"country\", \"year\", \"month\"])"
   ]
  },
  {
   "cell_type": "code",
   "execution_count": 10,
   "metadata": {
    "colab": {
     "base_uri": "https://localhost:8080/",
     "height": 199
    },
    "id": "vpk0_8sl4zh_",
    "outputId": "ae030397-66b2-4b56-9f4f-f8814e602bda"
   },
   "outputs": [
    {
     "data": {
      "text/html": [
       "<div>\n",
       "<style scoped>\n",
       "    .dataframe tbody tr th:only-of-type {\n",
       "        vertical-align: middle;\n",
       "    }\n",
       "\n",
       "    .dataframe tbody tr th {\n",
       "        vertical-align: top;\n",
       "    }\n",
       "\n",
       "    .dataframe thead th {\n",
       "        text-align: right;\n",
       "    }\n",
       "</style>\n",
       "<table border=\"1\" class=\"dataframe\">\n",
       "  <thead>\n",
       "    <tr style=\"text-align: right;\">\n",
       "      <th></th>\n",
       "      <th>DisNo</th>\n",
       "      <th>year</th>\n",
       "      <th>country</th>\n",
       "      <th>month</th>\n",
       "      <th>ISO</th>\n",
       "      <th>Region</th>\n",
       "      <th>Continent</th>\n",
       "      <th>Deaths</th>\n",
       "      <th>NoInjured</th>\n",
       "      <th>TotalAffected</th>\n",
       "      <th>CPI</th>\n",
       "      <th>GDP</th>\n",
       "      <th>GNI</th>\n",
       "      <th>Population</th>\n",
       "      <th>rel_hum</th>\n",
       "      <th>tavg</th>\n",
       "      <th>HI</th>\n",
       "    </tr>\n",
       "  </thead>\n",
       "  <tbody>\n",
       "    <tr>\n",
       "      <th>0</th>\n",
       "      <td>2000-0382-BGR</td>\n",
       "      <td>2000</td>\n",
       "      <td>Bulgaria</td>\n",
       "      <td>6</td>\n",
       "      <td>BGR</td>\n",
       "      <td>Eastern Europe</td>\n",
       "      <td>Europe</td>\n",
       "      <td>7.0</td>\n",
       "      <td>NaN</td>\n",
       "      <td>NaN</td>\n",
       "      <td>67.355759</td>\n",
       "      <td>52491.528</td>\n",
       "      <td>6270.0</td>\n",
       "      <td>8170172</td>\n",
       "      <td>61.071429</td>\n",
       "      <td>20.831667</td>\n",
       "      <td>69.017057</td>\n",
       "    </tr>\n",
       "    <tr>\n",
       "      <th>1</th>\n",
       "      <td>2000-0382-BGR</td>\n",
       "      <td>2000</td>\n",
       "      <td>Bulgaria</td>\n",
       "      <td>6</td>\n",
       "      <td>BGR</td>\n",
       "      <td>Eastern Europe</td>\n",
       "      <td>Europe</td>\n",
       "      <td>7.0</td>\n",
       "      <td>NaN</td>\n",
       "      <td>NaN</td>\n",
       "      <td>67.355759</td>\n",
       "      <td>52491.528</td>\n",
       "      <td>6270.0</td>\n",
       "      <td>8170172</td>\n",
       "      <td>54.500000</td>\n",
       "      <td>20.831667</td>\n",
       "      <td>68.708200</td>\n",
       "    </tr>\n",
       "  </tbody>\n",
       "</table>\n",
       "</div>"
      ],
      "text/plain": [
       "           DisNo  year   country  month  ISO          Region Continent  \\\n",
       "0  2000-0382-BGR  2000  Bulgaria      6  BGR  Eastern Europe    Europe   \n",
       "1  2000-0382-BGR  2000  Bulgaria      6  BGR  Eastern Europe    Europe   \n",
       "\n",
       "   Deaths  NoInjured  TotalAffected        CPI        GDP     GNI Population  \\\n",
       "0     7.0        NaN            NaN  67.355759  52491.528  6270.0    8170172   \n",
       "1     7.0        NaN            NaN  67.355759  52491.528  6270.0    8170172   \n",
       "\n",
       "     rel_hum       tavg         HI  \n",
       "0  61.071429  20.831667  69.017057  \n",
       "1  54.500000  20.831667  68.708200  "
      ]
     },
     "execution_count": 10,
     "metadata": {},
     "output_type": "execute_result"
    }
   ],
   "source": [
    "HW2.head(2)"
   ]
  },
  {
   "cell_type": "code",
   "execution_count": 11,
   "metadata": {
    "id": "L0kuCoFf5wOB"
   },
   "outputs": [],
   "source": [
    "HW3 = HW2.drop_duplicates()"
   ]
  },
  {
   "cell_type": "markdown",
   "metadata": {
    "id": "9IKkqxAR5DYq"
   },
   "source": [
    "check missing"
   ]
  },
  {
   "cell_type": "code",
   "execution_count": 12,
   "metadata": {
    "colab": {
     "base_uri": "https://localhost:8080/"
    },
    "id": "NkezeGtZ5FAN",
    "outputId": "0d8e29a3-ffc6-449c-d6a1-4390cda0b260"
   },
   "outputs": [
    {
     "data": {
      "text/plain": [
       "DisNo              0\n",
       "year               0\n",
       "country            0\n",
       "month              0\n",
       "ISO                0\n",
       "Region             0\n",
       "Continent          0\n",
       "Deaths            59\n",
       "NoInjured        542\n",
       "TotalAffected    518\n",
       "CPI               20\n",
       "GDP                3\n",
       "GNI               24\n",
       "Population         0\n",
       "rel_hum            0\n",
       "tavg               4\n",
       "HI                 4\n",
       "dtype: int64"
      ]
     },
     "execution_count": 12,
     "metadata": {},
     "output_type": "execute_result"
    }
   ],
   "source": [
    "HW3.isna().sum()"
   ]
  },
  {
   "cell_type": "code",
   "execution_count": 13,
   "metadata": {
    "id": "WoWrWlGK5Ka_"
   },
   "outputs": [],
   "source": [
    "#fillna(interpolate)\n",
    "HW4 = HW3.interpolate(method='polynomial',order = 2)"
   ]
  },
  {
   "cell_type": "code",
   "execution_count": 14,
   "metadata": {
    "id": "VmM9qLbV5QjB"
   },
   "outputs": [],
   "source": [
    "HW5 = HW4.dropna()\n",
    "HW5 = HW5.reset_index()"
   ]
  },
  {
   "cell_type": "code",
   "execution_count": 15,
   "metadata": {
    "colab": {
     "base_uri": "https://localhost:8080/",
     "height": 719
    },
    "id": "2x3WvGe35TxB",
    "outputId": "bbbc064e-3208-4af8-fc45-5891eceee6be"
   },
   "outputs": [
    {
     "data": {
      "text/html": [
       "<div>\n",
       "<style scoped>\n",
       "    .dataframe tbody tr th:only-of-type {\n",
       "        vertical-align: middle;\n",
       "    }\n",
       "\n",
       "    .dataframe tbody tr th {\n",
       "        vertical-align: top;\n",
       "    }\n",
       "\n",
       "    .dataframe thead th {\n",
       "        text-align: right;\n",
       "    }\n",
       "</style>\n",
       "<table border=\"1\" class=\"dataframe\">\n",
       "  <thead>\n",
       "    <tr style=\"text-align: right;\">\n",
       "      <th></th>\n",
       "      <th>index</th>\n",
       "      <th>DisNo</th>\n",
       "      <th>year</th>\n",
       "      <th>country</th>\n",
       "      <th>month</th>\n",
       "      <th>ISO</th>\n",
       "      <th>Region</th>\n",
       "      <th>Continent</th>\n",
       "      <th>Deaths</th>\n",
       "      <th>NoInjured</th>\n",
       "      <th>TotalAffected</th>\n",
       "      <th>CPI</th>\n",
       "      <th>GDP</th>\n",
       "      <th>GNI</th>\n",
       "      <th>Population</th>\n",
       "      <th>rel_hum</th>\n",
       "      <th>tavg</th>\n",
       "      <th>HI</th>\n",
       "    </tr>\n",
       "  </thead>\n",
       "  <tbody>\n",
       "    <tr>\n",
       "      <th>0</th>\n",
       "      <td>2</td>\n",
       "      <td>2000-0398-CYP</td>\n",
       "      <td>2000</td>\n",
       "      <td>Cyprus</td>\n",
       "      <td>7</td>\n",
       "      <td>CYP</td>\n",
       "      <td>Western Asia</td>\n",
       "      <td>Asia</td>\n",
       "      <td>5.000000</td>\n",
       "      <td>400.000000</td>\n",
       "      <td>400.000000</td>\n",
       "      <td>67.355759</td>\n",
       "      <td>14781.223000</td>\n",
       "      <td>19470.000000</td>\n",
       "      <td>943290</td>\n",
       "      <td>55.666667</td>\n",
       "      <td>28.525000</td>\n",
       "      <td>85.468281</td>\n",
       "    </tr>\n",
       "    <tr>\n",
       "      <th>1</th>\n",
       "      <td>3</td>\n",
       "      <td>2000-0398-CYP</td>\n",
       "      <td>2000</td>\n",
       "      <td>Cyprus</td>\n",
       "      <td>7</td>\n",
       "      <td>CYP</td>\n",
       "      <td>Western Asia</td>\n",
       "      <td>Asia</td>\n",
       "      <td>5.000000</td>\n",
       "      <td>400.000000</td>\n",
       "      <td>400.000000</td>\n",
       "      <td>67.355759</td>\n",
       "      <td>14781.223000</td>\n",
       "      <td>19470.000000</td>\n",
       "      <td>943290</td>\n",
       "      <td>88.000000</td>\n",
       "      <td>28.525000</td>\n",
       "      <td>95.278556</td>\n",
       "    </tr>\n",
       "    <tr>\n",
       "      <th>2</th>\n",
       "      <td>4</td>\n",
       "      <td>2000-0379-GRC</td>\n",
       "      <td>2000</td>\n",
       "      <td>Greece</td>\n",
       "      <td>7</td>\n",
       "      <td>GRC</td>\n",
       "      <td>Southern Europe</td>\n",
       "      <td>Europe</td>\n",
       "      <td>27.000000</td>\n",
       "      <td>176.000000</td>\n",
       "      <td>176.000000</td>\n",
       "      <td>67.355759</td>\n",
       "      <td>210979.958000</td>\n",
       "      <td>16644.849581</td>\n",
       "      <td>10805808</td>\n",
       "      <td>64.769231</td>\n",
       "      <td>26.260000</td>\n",
       "      <td>81.368376</td>\n",
       "    </tr>\n",
       "    <tr>\n",
       "      <th>3</th>\n",
       "      <td>5</td>\n",
       "      <td>2000-0379-GRC</td>\n",
       "      <td>2000</td>\n",
       "      <td>Greece</td>\n",
       "      <td>7</td>\n",
       "      <td>GRC</td>\n",
       "      <td>Southern Europe</td>\n",
       "      <td>Europe</td>\n",
       "      <td>27.000000</td>\n",
       "      <td>176.000000</td>\n",
       "      <td>176.000000</td>\n",
       "      <td>67.355759</td>\n",
       "      <td>210979.958000</td>\n",
       "      <td>13557.647705</td>\n",
       "      <td>10805808</td>\n",
       "      <td>60.857143</td>\n",
       "      <td>26.260000</td>\n",
       "      <td>81.042498</td>\n",
       "    </tr>\n",
       "    <tr>\n",
       "      <th>4</th>\n",
       "      <td>6</td>\n",
       "      <td>2000-0324-HRV</td>\n",
       "      <td>2000</td>\n",
       "      <td>Croatia</td>\n",
       "      <td>6</td>\n",
       "      <td>HRV</td>\n",
       "      <td>Southern Europe</td>\n",
       "      <td>Europe</td>\n",
       "      <td>40.000000</td>\n",
       "      <td>200.000000</td>\n",
       "      <td>200.000000</td>\n",
       "      <td>67.355759</td>\n",
       "      <td>47307.968000</td>\n",
       "      <td>10390.000000</td>\n",
       "      <td>4468302</td>\n",
       "      <td>64.190476</td>\n",
       "      <td>22.460000</td>\n",
       "      <td>72.387752</td>\n",
       "    </tr>\n",
       "    <tr>\n",
       "      <th>5</th>\n",
       "      <td>7</td>\n",
       "      <td>2000-0324-HRV</td>\n",
       "      <td>2000</td>\n",
       "      <td>Croatia</td>\n",
       "      <td>6</td>\n",
       "      <td>HRV</td>\n",
       "      <td>Southern Europe</td>\n",
       "      <td>Europe</td>\n",
       "      <td>40.000000</td>\n",
       "      <td>200.000000</td>\n",
       "      <td>200.000000</td>\n",
       "      <td>67.355759</td>\n",
       "      <td>47307.968000</td>\n",
       "      <td>10390.000000</td>\n",
       "      <td>4468302</td>\n",
       "      <td>66.000000</td>\n",
       "      <td>22.460000</td>\n",
       "      <td>72.472800</td>\n",
       "    </tr>\n",
       "    <tr>\n",
       "      <th>6</th>\n",
       "      <td>8</td>\n",
       "      <td>2000-0473-ISR</td>\n",
       "      <td>2000</td>\n",
       "      <td>Israel</td>\n",
       "      <td>7</td>\n",
       "      <td>ISR</td>\n",
       "      <td>Western Asia</td>\n",
       "      <td>Asia</td>\n",
       "      <td>36.096863</td>\n",
       "      <td>120.500362</td>\n",
       "      <td>120.500362</td>\n",
       "      <td>67.355759</td>\n",
       "      <td>157214.843000</td>\n",
       "      <td>23440.000000</td>\n",
       "      <td>6289000</td>\n",
       "      <td>64.333333</td>\n",
       "      <td>28.638889</td>\n",
       "      <td>87.907317</td>\n",
       "    </tr>\n",
       "    <tr>\n",
       "      <th>7</th>\n",
       "      <td>9</td>\n",
       "      <td>2000-0471-JOR</td>\n",
       "      <td>2000</td>\n",
       "      <td>Jordan</td>\n",
       "      <td>7</td>\n",
       "      <td>JOR</td>\n",
       "      <td>Western Asia</td>\n",
       "      <td>Asia</td>\n",
       "      <td>30.834503</td>\n",
       "      <td>12.000000</td>\n",
       "      <td>12.000000</td>\n",
       "      <td>67.355759</td>\n",
       "      <td>846.042440</td>\n",
       "      <td>6010.000000</td>\n",
       "      <td>5122493</td>\n",
       "      <td>52.000000</td>\n",
       "      <td>26.256456</td>\n",
       "      <td>75.995444</td>\n",
       "    </tr>\n",
       "    <tr>\n",
       "      <th>8</th>\n",
       "      <td>10</td>\n",
       "      <td>2000-0487-MAR</td>\n",
       "      <td>2000</td>\n",
       "      <td>Morocco</td>\n",
       "      <td>8</td>\n",
       "      <td>MAR</td>\n",
       "      <td>Northern Africa</td>\n",
       "      <td>Africa</td>\n",
       "      <td>26.154891</td>\n",
       "      <td>-65.506858</td>\n",
       "      <td>-65.506858</td>\n",
       "      <td>67.355759</td>\n",
       "      <td>38857.251340</td>\n",
       "      <td>3510.000000</td>\n",
       "      <td>28793679</td>\n",
       "      <td>83.000000</td>\n",
       "      <td>24.866667</td>\n",
       "      <td>78.037000</td>\n",
       "    </tr>\n",
       "    <tr>\n",
       "      <th>9</th>\n",
       "      <td>11</td>\n",
       "      <td>2000-0351-PAK</td>\n",
       "      <td>2000</td>\n",
       "      <td>Pakistan</td>\n",
       "      <td>6</td>\n",
       "      <td>PAK</td>\n",
       "      <td>Southern Asia</td>\n",
       "      <td>Asia</td>\n",
       "      <td>24.000000</td>\n",
       "      <td>-112.020213</td>\n",
       "      <td>-112.020213</td>\n",
       "      <td>67.355759</td>\n",
       "      <td>8201.774342</td>\n",
       "      <td>2560.000000</td>\n",
       "      <td>142343578</td>\n",
       "      <td>81.000000</td>\n",
       "      <td>33.225595</td>\n",
       "      <td>121.209139</td>\n",
       "    </tr>\n",
       "  </tbody>\n",
       "</table>\n",
       "</div>"
      ],
      "text/plain": [
       "   index          DisNo  year   country  month  ISO           Region  \\\n",
       "0      2  2000-0398-CYP  2000    Cyprus      7  CYP     Western Asia   \n",
       "1      3  2000-0398-CYP  2000    Cyprus      7  CYP     Western Asia   \n",
       "2      4  2000-0379-GRC  2000    Greece      7  GRC  Southern Europe   \n",
       "3      5  2000-0379-GRC  2000    Greece      7  GRC  Southern Europe   \n",
       "4      6  2000-0324-HRV  2000   Croatia      6  HRV  Southern Europe   \n",
       "5      7  2000-0324-HRV  2000   Croatia      6  HRV  Southern Europe   \n",
       "6      8  2000-0473-ISR  2000    Israel      7  ISR     Western Asia   \n",
       "7      9  2000-0471-JOR  2000    Jordan      7  JOR     Western Asia   \n",
       "8     10  2000-0487-MAR  2000   Morocco      8  MAR  Northern Africa   \n",
       "9     11  2000-0351-PAK  2000  Pakistan      6  PAK    Southern Asia   \n",
       "\n",
       "  Continent     Deaths   NoInjured  TotalAffected        CPI            GDP  \\\n",
       "0      Asia   5.000000  400.000000     400.000000  67.355759   14781.223000   \n",
       "1      Asia   5.000000  400.000000     400.000000  67.355759   14781.223000   \n",
       "2    Europe  27.000000  176.000000     176.000000  67.355759  210979.958000   \n",
       "3    Europe  27.000000  176.000000     176.000000  67.355759  210979.958000   \n",
       "4    Europe  40.000000  200.000000     200.000000  67.355759   47307.968000   \n",
       "5    Europe  40.000000  200.000000     200.000000  67.355759   47307.968000   \n",
       "6      Asia  36.096863  120.500362     120.500362  67.355759  157214.843000   \n",
       "7      Asia  30.834503   12.000000      12.000000  67.355759     846.042440   \n",
       "8    Africa  26.154891  -65.506858     -65.506858  67.355759   38857.251340   \n",
       "9      Asia  24.000000 -112.020213    -112.020213  67.355759    8201.774342   \n",
       "\n",
       "            GNI Population    rel_hum       tavg          HI  \n",
       "0  19470.000000     943290  55.666667  28.525000   85.468281  \n",
       "1  19470.000000     943290  88.000000  28.525000   95.278556  \n",
       "2  16644.849581   10805808  64.769231  26.260000   81.368376  \n",
       "3  13557.647705   10805808  60.857143  26.260000   81.042498  \n",
       "4  10390.000000    4468302  64.190476  22.460000   72.387752  \n",
       "5  10390.000000    4468302  66.000000  22.460000   72.472800  \n",
       "6  23440.000000    6289000  64.333333  28.638889   87.907317  \n",
       "7   6010.000000    5122493  52.000000  26.256456   75.995444  \n",
       "8   3510.000000   28793679  83.000000  24.866667   78.037000  \n",
       "9   2560.000000  142343578  81.000000  33.225595  121.209139  "
      ]
     },
     "execution_count": 15,
     "metadata": {},
     "output_type": "execute_result"
    }
   ],
   "source": [
    "result = HW5.columns\n",
    "HW5.head(10)"
   ]
  },
  {
   "cell_type": "markdown",
   "metadata": {},
   "source": [
    "## Data preprocess"
   ]
  },
  {
   "cell_type": "markdown",
   "metadata": {
    "id": "U2aZdYbH4-nQ"
   },
   "source": [
    "check correlation"
   ]
  },
  {
   "cell_type": "code",
   "execution_count": 16,
   "metadata": {
    "colab": {
     "base_uri": "https://localhost:8080/",
     "height": 324
    },
    "id": "NbY4sKy24_bz",
    "outputId": "35843124-f14d-44df-8ce3-7d4595ea0787"
   },
   "outputs": [
    {
     "data": {
      "image/png": "[encoded data removed]",
      "text/plain": [
       "<Figure size 432x288 with 2 Axes>"
      ]
     },
     "metadata": {
      "needs_background": "light"
     },
     "output_type": "display_data"
    }
   ],
   "source": [
    "g=sns.heatmap(HW5[['DisNo', 'year', 'country', 'month', 'ISO', 'Region', 'Continent',\n",
    "       'Deaths', 'NoInjured', 'TotalAffected', 'CPI', 'GDP', 'GNI',\n",
    "       'Population', 'rel_hum', 'tavg', 'HI']].corr(),cmap='RdYlGn',annot=True)"
   ]
  },
  {
   "cell_type": "code",
   "execution_count": 17,
   "metadata": {
    "id": "4qXInUTE7QWP"
   },
   "outputs": [],
   "source": [
    "#choose variables for model\n",
    "HW6 = HW5[['year', 'country', 'month', 'ISO', 'Region', 'Continent',\n",
    "       'Deaths', 'NoInjured', 'TotalAffected', 'CPI', 'GDP', 'GNI',\n",
    "       'Population', 'rel_hum', 'tavg', 'HI']]"
   ]
  },
  {
   "cell_type": "markdown",
   "metadata": {
    "id": "gA42jAlV7fS-"
   },
   "source": [
    "process category variables"
   ]
  },
  {
   "cell_type": "code",
   "execution_count": 18,
   "metadata": {
    "colab": {
     "base_uri": "https://localhost:8080/",
     "height": 570
    },
    "id": "weAqBnPp7gmq",
    "outputId": "c532b841-03c2-4385-8bd1-783ad81937b6"
   },
   "outputs": [
    {
     "name": "stderr",
     "output_type": "stream",
     "text": [
      "<ipython-input-18-1c42f9110b03>:6: SettingWithCopyWarning: \n",
      "A value is trying to be set on a copy of a slice from a DataFrame.\n",
      "Try using .loc[row_indexer,col_indexer] = value instead\n",
      "\n",
      "See the caveats in the documentation: https://pandas.pydata.org/pandas-docs/stable/user_guide/indexing.html#returning-a-view-versus-a-copy\n",
      "  HW6[\"country\"] = encoder1.transform(HW6[\"country\"])\n",
      "<ipython-input-18-1c42f9110b03>:7: SettingWithCopyWarning: \n",
      "A value is trying to be set on a copy of a slice from a DataFrame.\n",
      "Try using .loc[row_indexer,col_indexer] = value instead\n",
      "\n",
      "See the caveats in the documentation: https://pandas.pydata.org/pandas-docs/stable/user_guide/indexing.html#returning-a-view-versus-a-copy\n",
      "  HW6[\"ISO\"] = encoder2.transform(HW6[\"ISO\"])\n",
      "<ipython-input-18-1c42f9110b03>:8: SettingWithCopyWarning: \n",
      "A value is trying to be set on a copy of a slice from a DataFrame.\n",
      "Try using .loc[row_indexer,col_indexer] = value instead\n",
      "\n",
      "See the caveats in the documentation: https://pandas.pydata.org/pandas-docs/stable/user_guide/indexing.html#returning-a-view-versus-a-copy\n",
      "  HW6[\"Region\"] = encoder3.transform(HW6[\"Region\"])\n",
      "<ipython-input-18-1c42f9110b03>:9: SettingWithCopyWarning: \n",
      "A value is trying to be set on a copy of a slice from a DataFrame.\n",
      "Try using .loc[row_indexer,col_indexer] = value instead\n",
      "\n",
      "See the caveats in the documentation: https://pandas.pydata.org/pandas-docs/stable/user_guide/indexing.html#returning-a-view-versus-a-copy\n",
      "  HW6[\"Continent\"] = encoder4.transform(HW6[\"Continent\"])\n"
     ]
    },
    {
     "data": {
      "text/html": [
       "<div>\n",
       "<style scoped>\n",
       "    .dataframe tbody tr th:only-of-type {\n",
       "        vertical-align: middle;\n",
       "    }\n",
       "\n",
       "    .dataframe tbody tr th {\n",
       "        vertical-align: top;\n",
       "    }\n",
       "\n",
       "    .dataframe thead th {\n",
       "        text-align: right;\n",
       "    }\n",
       "</style>\n",
       "<table border=\"1\" class=\"dataframe\">\n",
       "  <thead>\n",
       "    <tr style=\"text-align: right;\">\n",
       "      <th></th>\n",
       "      <th>year</th>\n",
       "      <th>country</th>\n",
       "      <th>month</th>\n",
       "      <th>ISO</th>\n",
       "      <th>Region</th>\n",
       "      <th>Continent</th>\n",
       "      <th>Deaths</th>\n",
       "      <th>NoInjured</th>\n",
       "      <th>TotalAffected</th>\n",
       "      <th>CPI</th>\n",
       "      <th>GDP</th>\n",
       "      <th>GNI</th>\n",
       "      <th>Population</th>\n",
       "      <th>rel_hum</th>\n",
       "      <th>tavg</th>\n",
       "      <th>HI</th>\n",
       "    </tr>\n",
       "  </thead>\n",
       "  <tbody>\n",
       "    <tr>\n",
       "      <th>0</th>\n",
       "      <td>2000</td>\n",
       "      <td>14</td>\n",
       "      <td>7</td>\n",
       "      <td>12</td>\n",
       "      <td>11</td>\n",
       "      <td>2</td>\n",
       "      <td>5.0</td>\n",
       "      <td>400.0</td>\n",
       "      <td>400.0</td>\n",
       "      <td>67.355759</td>\n",
       "      <td>14781.223</td>\n",
       "      <td>19470.000000</td>\n",
       "      <td>943290</td>\n",
       "      <td>55.666667</td>\n",
       "      <td>28.525</td>\n",
       "      <td>85.468281</td>\n",
       "    </tr>\n",
       "    <tr>\n",
       "      <th>1</th>\n",
       "      <td>2000</td>\n",
       "      <td>14</td>\n",
       "      <td>7</td>\n",
       "      <td>12</td>\n",
       "      <td>11</td>\n",
       "      <td>2</td>\n",
       "      <td>5.0</td>\n",
       "      <td>400.0</td>\n",
       "      <td>400.0</td>\n",
       "      <td>67.355759</td>\n",
       "      <td>14781.223</td>\n",
       "      <td>19470.000000</td>\n",
       "      <td>943290</td>\n",
       "      <td>88.000000</td>\n",
       "      <td>28.525</td>\n",
       "      <td>95.278556</td>\n",
       "    </tr>\n",
       "    <tr>\n",
       "      <th>2</th>\n",
       "      <td>2000</td>\n",
       "      <td>19</td>\n",
       "      <td>7</td>\n",
       "      <td>20</td>\n",
       "      <td>9</td>\n",
       "      <td>3</td>\n",
       "      <td>27.0</td>\n",
       "      <td>176.0</td>\n",
       "      <td>176.0</td>\n",
       "      <td>67.355759</td>\n",
       "      <td>210979.958</td>\n",
       "      <td>16644.849581</td>\n",
       "      <td>10805808</td>\n",
       "      <td>64.769231</td>\n",
       "      <td>26.260</td>\n",
       "      <td>81.368376</td>\n",
       "    </tr>\n",
       "  </tbody>\n",
       "</table>\n",
       "</div>"
      ],
      "text/plain": [
       "   year  country  month  ISO  Region  Continent  Deaths  NoInjured  \\\n",
       "0  2000       14      7   12      11          2     5.0      400.0   \n",
       "1  2000       14      7   12      11          2     5.0      400.0   \n",
       "2  2000       19      7   20       9          3    27.0      176.0   \n",
       "\n",
       "   TotalAffected        CPI         GDP           GNI Population    rel_hum  \\\n",
       "0          400.0  67.355759   14781.223  19470.000000     943290  55.666667   \n",
       "1          400.0  67.355759   14781.223  19470.000000     943290  88.000000   \n",
       "2          176.0  67.355759  210979.958  16644.849581   10805808  64.769231   \n",
       "\n",
       "     tavg         HI  \n",
       "0  28.525  85.468281  \n",
       "1  28.525  95.278556  \n",
       "2  26.260  81.368376  "
      ]
     },
     "execution_count": 18,
     "metadata": {},
     "output_type": "execute_result"
    }
   ],
   "source": [
    "#encode category variables\n",
    "encoder1= LabelEncoder().fit(HW6[\"country\"])\n",
    "encoder2= LabelEncoder().fit(HW6[\"ISO\"])\n",
    "encoder3= LabelEncoder().fit(HW6[\"Region\"])\n",
    "encoder4= LabelEncoder().fit(HW6[\"Continent\"])\n",
    "HW6[\"country\"] = encoder1.transform(HW6[\"country\"])\n",
    "HW6[\"ISO\"] = encoder2.transform(HW6[\"ISO\"])\n",
    "HW6[\"Region\"] = encoder3.transform(HW6[\"Region\"])\n",
    "HW6[\"Continent\"] = encoder4.transform(HW6[\"Continent\"])\n",
    "HW6.head(3)"
   ]
  },
  {
   "cell_type": "code",
   "execution_count": 19,
   "metadata": {
    "id": "MOiEY5Lb7wGe"
   },
   "outputs": [],
   "source": [
    "HW6 = HW6.astype('int') "
   ]
  },
  {
   "cell_type": "markdown",
   "metadata": {},
   "source": [
    "## Model Building"
   ]
  },
  {
   "cell_type": "code",
   "execution_count": 20,
   "metadata": {
    "id": "k7mkICAR71se"
   },
   "outputs": [],
   "source": [
    "def HW_model(model, X, y):\n",
    "  model.fit( X, y)\n",
    "  pred_y = model.predict(X)\n",
    "  kf = KFold(n_splits= 5)\n",
    "  RMSE = []\n",
    "  for train_index, test_index in kf.split(X):\n",
    "    X_train, X_test = X.iloc[train_index], X.iloc[test_index]\n",
    "    y_train, y_test = y.iloc[train_index], y.iloc[test_index]\n",
    "    model.fit(X_train,y_train)\n",
    "    pred_y = model.predict(X_test)\n",
    "    RMSE.append(mean_squared_error(y_test, pred_y))\n",
    "    print('RMSE:',mean_squared_error(y_test, pred_y))\n",
    "  print(\"Cross−Validation RMSE {0}\".format(np.mean(RMSE)))"
   ]
  },
  {
   "cell_type": "markdown",
   "metadata": {},
   "source": [
    "### CPI as target"
   ]
  },
  {
   "cell_type": "code",
   "execution_count": 21,
   "metadata": {
    "colab": {
     "base_uri": "https://localhost:8080/"
    },
    "id": "UQzr-Wck7_Sd",
    "outputId": "3bd78841-5197-434b-e659-da427f8748ea"
   },
   "outputs": [
    {
     "name": "stdout",
     "output_type": "stream",
     "text": [
      "---------------\n",
      "RMSE: 44.666666666666664\n",
      "RMSE: 41.69387755102041\n",
      "RMSE: 50.46258503401361\n",
      "RMSE: 43.66438356164384\n",
      "RMSE: 41.773972602739725\n",
      "Cross−Validation RMSE 44.45229708321685\n",
      "---------------\n",
      "RMSE: 9.29251700680272\n",
      "RMSE: 6.612244897959184\n",
      "RMSE: 26.41496598639456\n",
      "RMSE: 2.363013698630137\n",
      "RMSE: 0.3561643835616438\n",
      "Cross−Validation RMSE 9.007781194669647\n",
      "---------------\n",
      "RMSE: 623.734693877551\n",
      "RMSE: 347.63945578231295\n",
      "RMSE: 111.45578231292517\n",
      "RMSE: 389.78767123287673\n",
      "RMSE: 87.73287671232876\n",
      "Cross−Validation RMSE 312.0700959835989\n",
      "---------------\n",
      "9    30.142814\n",
      "Name: test-rmse-mean, dtype: float64\n"
     ]
    }
   ],
   "source": [
    "# predict cpi\n",
    "y1 = HW6['CPI']\n",
    "X1 = HW6[['year', 'country', 'month', 'ISO', 'Region', 'Continent',\n",
    "       'Deaths', 'NoInjured', 'TotalAffected', 'GDP', 'GNI',\n",
    "       'Population', 'rel_hum', 'tavg', 'HI']]\n",
    "# RandomForest\n",
    "print('---------------')\n",
    "model1 = RandomForestClassifier(n_estimators=200)\n",
    "HW_model(model1, X1, y1 )\n",
    "#Decision Tree\n",
    "print('---------------')\n",
    "model2 = DecisionTreeClassifier()\n",
    "HW_model(model2, X1, y1 )\n",
    "#SVM\n",
    "print('---------------')\n",
    "model3 = SVC()\n",
    "HW_model(model3, X1, y1)\n",
    "#Xgboost\n",
    "print('---------------')\n",
    "data_dmatrix = xgb.DMatrix(data=HW6[['year', 'country', 'month', 'ISO', 'Region', 'Continent',\n",
    "       'Deaths', 'NoInjured', 'TotalAffected', 'GDP', 'GNI',\n",
    "       'Population', 'rel_hum', 'tavg', 'HI']],label=HW6[\"CPI\"])\n",
    "\n",
    "params = {'colsample_bytree': 0.3,'learning_rate': 0.1,\n",
    "                'max_depth': 5, 'alpha': 10}\n",
    "\n",
    "cv_results = xgb.cv(dtrain=data_dmatrix, params=params, nfold=5,early_stopping_rounds=10,\n",
    "                    metrics=\"rmse\", as_pandas=True, seed=123)\n",
    "print((cv_results[\"test-rmse-mean\"]).tail(1))"
   ]
  },
  {
   "cell_type": "code",
   "execution_count": 22,
   "metadata": {
    "colab": {
     "base_uri": "https://localhost:8080/"
    },
    "id": "aVCRSdL5PtOT",
    "outputId": "cb39b8fd-60a3-4e91-e5ff-9527dbeb13fb"
   },
   "outputs": [
    {
     "name": "stdout",
     "output_type": "stream",
     "text": [
      "RMSE: 9.29251700680272\n",
      "RMSE: 6.612244897959184\n",
      "RMSE: 6.142857142857143\n",
      "RMSE: 2.5547945205479454\n",
      "RMSE: 32.554794520547944\n",
      "Cross−Validation RMSE 11.431441617742987\n",
      "year             0.909580\n",
      "TotalAffected    0.068439\n",
      "month            0.021981\n",
      "country          0.000000\n",
      "ISO              0.000000\n",
      "Region           0.000000\n",
      "Continent        0.000000\n",
      "Deaths           0.000000\n",
      "NoInjured        0.000000\n",
      "GDP              0.000000\n",
      "GNI              0.000000\n",
      "Population       0.000000\n",
      "rel_hum          0.000000\n",
      "tavg             0.000000\n",
      "HI               0.000000\n",
      "dtype: float64\n"
     ]
    }
   ],
   "source": [
    "#model2 is better\n",
    "#Create a series with feature importances:\n",
    "model2 = DecisionTreeClassifier()\n",
    "HW_model(model2, X1, y1 )\n",
    "featimp = pd.Series(model2.feature_importances_, index=['year', 'country', 'month', 'ISO', 'Region', 'Continent',\n",
    "       'Deaths', 'NoInjured', 'TotalAffected', 'GDP', 'GNI',\n",
    "       'Population', 'rel_hum', 'tavg', 'HI']).sort_values(ascending=False)\n",
    "print(featimp)"
   ]
  },
  {
   "cell_type": "markdown",
   "metadata": {},
   "source": [
    "### GDP as target"
   ]
  },
  {
   "cell_type": "code",
   "execution_count": 23,
   "metadata": {
    "colab": {
     "base_uri": "https://localhost:8080/"
    },
    "id": "WlJSmNXB8hoI",
    "outputId": "1cfae29f-5cb0-433b-9a07-a52f8be8aa56"
   },
   "outputs": [
    {
     "name": "stdout",
     "output_type": "stream",
     "text": [
      "---------------\n",
      "RMSE: 2422883570119.959\n",
      "RMSE: 770973940668.8707\n",
      "RMSE: 9493165482469.184\n",
      "RMSE: 5527495551517.309\n",
      "RMSE: 15015015985257.979\n",
      "Cross−Validation RMSE 6645906906006.659\n",
      "---------------\n",
      "RMSE: 20024322986272.504\n",
      "RMSE: 2121428881345.3198\n",
      "RMSE: 8123384502639.177\n",
      "RMSE: 4096702299803.808\n",
      "RMSE: 26942559833729.69\n",
      "Cross−Validation RMSE 12261679700758.1\n",
      "---------------\n",
      "RMSE: 15979945032493.21\n",
      "RMSE: 16642587070647.51\n",
      "RMSE: 14642775200179.822\n",
      "RMSE: 17150348550050.008\n",
      "RMSE: 13408619193726.076\n",
      "Cross−Validation RMSE 15564855009419.324\n",
      "---------------\n",
      "9    2259677.55\n",
      "Name: test-rmse-mean, dtype: float64\n"
     ]
    }
   ],
   "source": [
    "# predict gdp\n",
    "y1 = HW6['GDP']\n",
    "X1 = HW6[['year', 'country', 'month', 'ISO', 'Region', 'Continent',\n",
    "       'Deaths', 'NoInjured', 'TotalAffected', 'GNI', 'GNI',\n",
    "       'Population', 'rel_hum', 'tavg', 'HI']]\n",
    "# RandomForest\n",
    "print('---------------')\n",
    "model1 = RandomForestClassifier(n_estimators=200)\n",
    "HW_model(model1, X1, y1 )\n",
    "#Decision Tree\n",
    "print('---------------')\n",
    "model2 = DecisionTreeClassifier()\n",
    "HW_model(model2, X1, y1 )\n",
    "#SVM\n",
    "print('---------------')\n",
    "model3 = SVC()\n",
    "HW_model(model3, X1, y1)\n",
    "#Xgboost\n",
    "print('---------------')\n",
    "data_dmatrix = xgb.DMatrix(data=HW6[['year', 'country', 'month', 'ISO', 'Region', 'Continent',\n",
    "       'Deaths', 'NoInjured', 'TotalAffected', 'CPI', 'GNI',\n",
    "       'Population', 'rel_hum', 'tavg', 'HI']],label=HW6[\"GDP\"])\n",
    "\n",
    "params = {'colsample_bytree': 0.3,'learning_rate': 0.1,\n",
    "                'max_depth': 5, 'alpha': 10}\n",
    "\n",
    "cv_results = xgb.cv(dtrain=data_dmatrix, params=params, nfold=5,early_stopping_rounds=10,\n",
    "                    metrics=\"rmse\", as_pandas=True, seed=123)\n",
    "print((cv_results[\"test-rmse-mean\"]).tail(1))"
   ]
  },
  {
   "cell_type": "code",
   "execution_count": 24,
   "metadata": {
    "colab": {
     "base_uri": "https://localhost:8080/",
     "height": 99
    },
    "id": "fiu6txbj9Ezv",
    "outputId": "415efe2b-fba7-47da-f719-905fbf8d1eac"
   },
   "outputs": [
    {
     "data": {
      "image/png": "[encoded data removed]",
      "text/plain": [
       "<Figure size 432x288 with 1 Axes>"
      ]
     },
     "metadata": {
      "needs_background": "light"
     },
     "output_type": "display_data"
    }
   ],
   "source": [
    "#model 4 is better\n",
    "#plot\n",
    "xg_reg = xgb.train(params=params, dtrain=data_dmatrix, num_boost_round=10)\n",
    "xgb.plot_tree(xg_reg,num_trees=0)\n",
    "plt.rcParams['figure.figsize'] = [50, 10]\n",
    "plt.show()"
   ]
  },
  {
   "cell_type": "code",
   "execution_count": 25,
   "metadata": {
    "colab": {
     "base_uri": "https://localhost:8080/",
     "height": 215
    },
    "id": "d4ZCpHIvSO76",
    "outputId": "80a7b714-5695-4448-e4dc-ab9695adbed4"
   },
   "outputs": [
    {
     "data": {
      "image/png": "[encoded data removed]",
      "text/plain": [
       "<Figure size 3600x720 with 1 Axes>"
      ]
     },
     "metadata": {
      "needs_background": "light"
     },
     "output_type": "display_data"
    }
   ],
   "source": [
    "xgb.plot_importance(xg_reg)\n",
    "plt.rcParams['figure.figsize'] = [5, 5]\n",
    "plt.show()"
   ]
  },
  {
   "cell_type": "markdown",
   "metadata": {},
   "source": [
    "### Death as target"
   ]
  },
  {
   "cell_type": "code",
   "execution_count": 26,
   "metadata": {
    "colab": {
     "base_uri": "https://localhost:8080/"
    },
    "id": "CD4VJsUISlVm",
    "outputId": "c0c0f7e5-ceb2-45d9-88af-bf644bf25054"
   },
   "outputs": [
    {
     "name": "stdout",
     "output_type": "stream",
     "text": [
      "---------------\n",
      "RMSE: 76122064.34013605\n",
      "RMSE: 40166421.850340135\n",
      "RMSE: 44883996.06122449\n",
      "RMSE: 2500239.5\n",
      "RMSE: 950319.4315068494\n",
      "Cross−Validation RMSE 32924608.236641504\n",
      "---------------\n",
      "RMSE: 37765017.59863946\n",
      "RMSE: 21378355.27210884\n",
      "RMSE: 41883945.047619045\n",
      "RMSE: 781031.6643835617\n",
      "RMSE: 355689.9794520548\n",
      "Cross−Validation RMSE 20432807.91244059\n",
      "---------------\n",
      "RMSE: 39027633.61904762\n",
      "RMSE: 341619.95238095237\n",
      "RMSE: 42892399.2585034\n",
      "RMSE: 1060933.2260273972\n",
      "RMSE: 75760.96575342465\n",
      "Cross−Validation RMSE 16679669.404342558\n",
      "---------------\n",
      "9    2409.576209\n",
      "Name: test-rmse-mean, dtype: float64\n"
     ]
    }
   ],
   "source": [
    "# predict gdp\n",
    "y1 = HW6['Deaths']\n",
    "X1 = HW6[['year', 'country', 'month', 'ISO', 'Region', 'Continent',\n",
    "       'GDP', 'NoInjured', 'TotalAffected', 'GNI', 'GNI',\n",
    "       'Population', 'rel_hum', 'tavg', 'HI']]\n",
    "# RandomForest\n",
    "print('---------------')\n",
    "model1 = RandomForestClassifier(n_estimators=200)\n",
    "HW_model(model1, X1, y1 )\n",
    "#Decision Tree\n",
    "print('---------------')\n",
    "model2 = DecisionTreeClassifier()\n",
    "HW_model(model2, X1, y1 )\n",
    "#SVM\n",
    "print('---------------')\n",
    "model3 = SVC()\n",
    "HW_model(model3, X1, y1)\n",
    "#Xgboost\n",
    "print('---------------')\n",
    "data_dmatrix = xgb.DMatrix(data=HW6[['year', 'country', 'month', 'ISO', 'Region', 'Continent',\n",
    "       'GDP', 'NoInjured', 'TotalAffected', 'CPI', 'GNI',\n",
    "       'Population', 'rel_hum', 'tavg', 'HI']],label=HW6[\"Deaths\"])\n",
    "\n",
    "params = {'colsample_bytree': 0.3,'learning_rate': 0.1,\n",
    "                'max_depth': 5, 'alpha': 10}\n",
    "\n",
    "cv_results = xgb.cv(dtrain=data_dmatrix, params=params, nfold=5,early_stopping_rounds=10,\n",
    "                    metrics=\"rmse\", as_pandas=True, seed=123)\n",
    "print((cv_results[\"test-rmse-mean\"]).tail(1))"
   ]
  },
  {
   "cell_type": "code",
   "execution_count": 27,
   "metadata": {
    "colab": {
     "base_uri": "https://localhost:8080/",
     "height": 68
    },
    "id": "qd0HrYT3S0jt",
    "outputId": "031ebab5-5e89-4303-874a-9033dee1dcc2"
   },
   "outputs": [
    {
     "data": {
      "image/png": "[encoded data removed]",
      "text/plain": [
       "<Figure size 360x360 with 1 Axes>"
      ]
     },
     "metadata": {
      "needs_background": "light"
     },
     "output_type": "display_data"
    }
   ],
   "source": [
    "#model 4 is better\n",
    "#plot\n",
    "xg_reg = xgb.train(params=params, dtrain=data_dmatrix, num_boost_round=10)\n",
    "xgb.plot_tree(xg_reg,num_trees=0)\n",
    "plt.rcParams['figure.figsize'] = [50, 10]\n",
    "plt.show()"
   ]
  },
  {
   "cell_type": "code",
   "execution_count": 28,
   "metadata": {
    "colab": {
     "base_uri": "https://localhost:8080/",
     "height": 215
    },
    "id": "V7l-FD_uS2vq",
    "outputId": "ebb53800-cf2a-4961-ea90-e1afc6fb26a9"
   },
   "outputs": [
    {
     "data": {
      "image/png": "[encoded data removed]",
      "text/plain": [
       "<Figure size 3600x720 with 1 Axes>"
      ]
     },
     "metadata": {
      "needs_background": "light"
     },
     "output_type": "display_data"
    }
   ],
   "source": [
    "xgb.plot_importance(xg_reg)\n",
    "plt.rcParams['figure.figsize'] = [5, 5]\n",
    "plt.show()"
   ]
  },
  {
   "cell_type": "code",
   "execution_count": null,
   "metadata": {},
   "outputs": [],
   "source": []
  },
  {
   "cell_type": "code",
   "execution_count": null,
   "metadata": {},
   "outputs": [],
   "source": []
  },
  {
   "cell_type": "code",
   "execution_count": null,
   "metadata": {},
   "outputs": [],
   "source": []
  }
 ],
 "metadata": {
  "colab": {
   "collapsed_sections": [],
   "name": "Untitled1.ipynb",
   "provenance": []
  },
  "kernelspec": {
   "display_name": "Python 3",
   "language": "python",
   "name": "python3"
  },
  "language_info": {
   "codemirror_mode": {
    "name": "ipython",
    "version": 3
   },
   "file_extension": ".py",
   "mimetype": "text/x-python",
   "name": "python",
   "nbconvert_exporter": "python",
   "pygments_lexer": "ipython3",
   "version": "3.8.8"
  },
  "toc": {
   "base_numbering": 1,
   "nav_menu": {},
   "number_sections": true,
   "sideBar": true,
   "skip_h1_title": false,
   "title_cell": "Table of Contents",
   "title_sidebar": "Contents",
   "toc_cell": false,
   "toc_position": {},
   "toc_section_display": true,
   "toc_window_display": false
  },
  "varInspector": {
   "cols": {
    "lenName": 16,
    "lenType": 16,
    "lenVar": 40
   },
   "kernels_config": {
    "python": {
     "delete_cmd_postfix": "",
     "delete_cmd_prefix": "del ",
     "library": "var_list.py",
     "varRefreshCmd": "print(var_dic_list())"
    },
    "r": {
     "delete_cmd_postfix": ") ",
     "delete_cmd_prefix": "rm(",
     "library": "var_list.r",
     "varRefreshCmd": "cat(var_dic_list()) "
    }
   },
   "types_to_exclude": [
    "module",
    "function",
    "builtin_function_or_method",
    "instance",
    "_Feature"
   ],
   "window_display": false
  }
 },
 "nbformat": 4,
 "nbformat_minor": 1
}
